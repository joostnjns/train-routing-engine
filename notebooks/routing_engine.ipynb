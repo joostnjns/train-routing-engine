{
 "cells": [
  {
   "cell_type": "code",
   "execution_count": null,
   "metadata": {},
   "outputs": [],
   "source": [
    "import geopandas as gpd\n",
    "import pandas as pd\n",
    "import networkx as nx\n",
    "import gtfs_kit as gk\n",
    "import folium\n",
    "import matplotlib.pyplot as plt\n",
    "\n",
    "# Load GTFS data\n",
    "gtfs = gk.read_feed('data/gtfs/gtfs.zip', dist_units='km')\n",
    "\n",
    "# Load shapefiles\n",
    "train_lines = gpd.read_file('data/train_lines.shp')\n",
    "train_stations = gpd.read_file('data/train_stations.shp')"
   ]
  }
 ],
 "metadata": {
  "language_info": {
   "name": "python"
  }
 },
 "nbformat": 4,
 "nbformat_minor": 2
}
